{
 "cells": [
  {
   "cell_type": "code",
   "execution_count": 1,
   "metadata": {},
   "outputs": [
    {
     "name": "stdout",
     "output_type": "stream",
     "text": [
      "Intel MKL WARNING: Support of Intel(R) Streaming SIMD Extensions 4.2 (Intel(R) SSE4.2) enabled only processors has been deprecated. Intel oneAPI Math Kernel Library 2025.0 will require Intel(R) Advanced Vector Extensions (Intel(R) AVX) instructions.\n",
      "Intel MKL WARNING: Support of Intel(R) Streaming SIMD Extensions 4.2 (Intel(R) SSE4.2) enabled only processors has been deprecated. Intel oneAPI Math Kernel Library 2025.0 will require Intel(R) Advanced Vector Extensions (Intel(R) AVX) instructions.\n"
     ]
    }
   ],
   "source": [
    "from geopy.geocoders import Nominatim\n",
    "import pandas as pd\n",
    "from sklearn.preprocessing import MinMaxScaler\n",
    "from sklearn.neighbors import NearestNeighbors\n",
    "import numpy as np\n",
    "from sklearn.preprocessing import StandardScaler\n",
    "from flask import Flask, request\n",
    "\n",
    "#returns zip code from address\n",
    "def get_zipcode(address):\n",
    "    geolocator = Nominatim(user_agent=\"my_app\")\n",
    "    location = geolocator.geocode(address, exactly_one=True)\n",
    "\n",
    "    if location:\n",
    "        return location.address.split(\",\")[-2]#.raw#['address']#['municipality']\n",
    "    else:\n",
    "        return None\n",
    "    \n",
    "def info_CP(cp):\n",
    "    pob = municipios.at[(municipios[\"Codigo Postal\"] == cp).idxmax(),\"Poblacion\"]\n",
    "    #remove non numeric characters from pob\n",
    "    pob = int(''.join(filter(str.isdigit, pob)))\n",
    "    #density in hab/m2 (shops)\n",
    "    den = municipios.at[(municipios[\"Codigo Postal\"] == cp).idxmax(),\"Densidad Comercial\"]\n",
    "    rent = municipios.at[(municipios[\"Codigo Postal\"] == cp).idxmax(),\"Renta Por Hogar\"]\n",
    "    #rent is in €\n",
    "    #remove non numeric characters from rent\n",
    "    rent = int(''.join(filter(str.isdigit, rent)))\n",
    "    \n",
    "    return (pob, den, rent)\n",
    "    \n",
    "#read the csv file\n",
    "shops = pd.read_csv(\"Fichero surtido tiendas 10062023.csv\", sep=\";\")\n",
    "#clean the dataframe\n",
    "shops = shops.drop(columns=['COMUNIDAD','PROVINCIA','FECHA APERTURA'])\n",
    "shops.rename(columns={'CV 2021':'CV_1'}, inplace=True)\n",
    "shops.rename(columns={'CV 2022':'CV_2'}, inplace=True)\n",
    "shops.rename(columns={'Nivel de surtido':'SURTIDO'}, inplace=True)\n",
    "shops.rename(columns={'SUP M2':'M2'}, inplace=True)\n",
    "shops.rename(columns={'C. POSTAL':'CP'}, inplace=True)\n",
    "\n",
    "#get location data from zipcodes\n",
    "municipios = pd.read_csv(\"Variables Geoblink Codigo Postal.csv\", sep=\";\")\n",
    "#remove lines with empty data\n",
    "municipios = municipios.dropna()\n",
    "\n",
    "shops[\"CP\"] = shops.CP.apply(info_CP)\n",
    "\n",
    "#Define a mapping of string values of TARIFA to numerical equivalents\n",
    "mapping = {'AGRESIVA': 1, 'ESTANDAR': 2, 'PLUS': 3, 'XPLUS': 4}\n",
    "\n",
    "#Apply the mapping to the TARIFA column\n",
    "shops['TARIFA'] = shops['TARIFA'].map(mapping)\n",
    "\n",
    "#Define a mapping of string values of ROL to numerical equivalents\n",
    "mapping = {'CONVENIENCIA':1, 'URB.RESIDENCIAL': 3, 'URB.COMERCIAL': 2, 'RURAL': 4}\n",
    "\n",
    "#Apply the mapping to the ROL column\n",
    "shops['ROL'] = shops['ROL'].map(mapping)\n",
    "\n",
    "#Define a mapping of string values of SURTIDO to numerical equivalents\n",
    "mapping = {'NACIONAL3':1, 'NACIONAL4': 2, 'NACIONAL5': 3, 'NACIONAL6': 4, 'NACIONAL7': 5, 'NACIONAL8': 6}\n",
    "\n",
    "#Apply the mapping to the SURTIDO column\n",
    "shops['SURTIDO'] = shops['SURTIDO'].map(mapping)\n",
    "\n",
    "#remove non numeric characters from CV_1 and CV_2\n",
    "shops['CV_1'] = shops['CV_1'].str.replace(\"’\",'')\n",
    "shops['CV_1'] = shops['CV_1'].str.replace(\"€\",'')\n",
    "shops['CV_1'] = shops['CV_1'].str.replace(\" \",'')\n",
    "\n",
    "shops['CV_2'] = shops['CV_2'].str.replace(\"’\",'')\n",
    "shops['CV_2'] = shops['CV_2'].str.replace(\"€\",'')\n",
    "shops['CV_2'] = shops['CV_2'].str.replace(\" \",'')\n",
    "\n",
    "#transform CV_1 and CV_2 to numeric\n",
    "shops['CV_1'] = pd.to_numeric(shops['CV_1'])\n",
    "shops['CV_2'] = pd.to_numeric(shops['CV_2'])\n",
    "\n",
    "#split the tuple into 3 columns\n",
    "shops[['POBLACION','DENSIDAD','RENTA']] = pd.DataFrame(shops.CP.tolist(), index= shops.index)\n",
    "\n",
    "shops = shops.drop(columns=['CV_1','MUNICIPIO','CP'])\n",
    "\n",
    "# M2 en metros cuadrados de la tienda\n",
    "# TARIFA: 1: Agresiva, 2: Estandar, 3: Plus, 4: XPlus\n",
    "# ROL: 1: Conveniencia, 2: Urbana Comercial, 3: Urbana Residencial, 4: Rural\n",
    "# SURTIDO: 1: Nacional 3, 2: Nacional 4, 3: Nacional 5, 4: Nacional 6, 5: Nacional 7, 6: Nacional 8\n",
    "# CP: Codigo Postal\n",
    "# tiendas: numero de tiendas a devolver\n",
    "# Devuelve un dataframe con la tienda mas parecida a la tienda de entrada\n",
    "def tienda_espejo_CP(M2,TARIFA,ROL,SURTIDO,CP, tiendas):\n",
    "    features = shops.drop(['CV_2','TIENDA'], axis = 1)\n",
    "    scaler_raw = StandardScaler()\n",
    "    X_nn = scaler_raw.fit_transform(features)\n",
    "    X = np.array([M2,TARIFA,ROL,SURTIDO,info_CP(CP)[0],info_CP(CP)[1],info_CP(CP)[2]])\n",
    "    X = scaler_raw.transform(X.reshape(1, -1))\n",
    "    #find nearest neighbors\n",
    "    nbrs = NearestNeighbors(n_neighbors=tiendas, algorithm='auto').fit(X_nn)\n",
    "    result = nbrs.kneighbors(X,2,return_distance=False)\n",
    "    \n",
    "    # for i in range(tiendas):\n",
    "    #     print((shops.iloc[result[0][i]]))\n",
    "    s = shops[shops.index.isin(result[0])]\n",
    "    return s"
   ]
  },
  {
   "cell_type": "code",
   "execution_count": 2,
   "metadata": {},
   "outputs": [
    {
     "name": "stdout",
     "output_type": "stream",
     "text": [
      "      M2             TIENDA  TARIFA  ROL  SURTIDO        CV_2  POBLACION  \\\n",
      "72   169  PXSE HARINAS, 7-9       2    2        4  1449857.55       9970   \n",
      "286  117  PXSE ANTONIA DÍAZ       2    2        5   824735.47       9970   \n",
      "\n",
      "     DENSIDAD  RENTA  \n",
      "72      554.9  45150  \n",
      "286     554.9  45150  \n"
     ]
    },
    {
     "name": "stderr",
     "output_type": "stream",
     "text": [
      "/Users/frrm/miniconda3/envs/sklearn-env/lib/python3.9/site-packages/sklearn/base.py:439: UserWarning: X does not have valid feature names, but StandardScaler was fitted with feature names\n",
      "  warnings.warn(\n"
     ]
    }
   ],
   "source": [
    "# M2 en metros cuadrados de la tienda\n",
    "# TARIFA: 1: Agresiva, 2: Estandar, 3: Plus, 4: XPlus\n",
    "# ROL: 1: Conveniencia, 2: Urbana Comercial, 3: Urbana Residencial, 4: Rural\n",
    "# SURTIDO: 1: Nacional 3, 2: Nacional 4, 3: Nacional 5, 4: Nacional 6, 5: Nacional 7, 6: Nacional 8\n",
    "# CP: Codigo Postal\n",
    "# tiendas: numero de tiendas a devolver\n",
    "# Devuelve un dataframe con la tienda mas parecida a la tienda de entrada\n",
    "\n",
    "print(tienda_espejo_CP(50,2,2,4,47001,2))"
   ]
  }
 ],
 "metadata": {
  "kernelspec": {
   "display_name": "sklearn-env",
   "language": "python",
   "name": "python3"
  },
  "language_info": {
   "codemirror_mode": {
    "name": "ipython",
    "version": 3
   },
   "file_extension": ".py",
   "mimetype": "text/x-python",
   "name": "python",
   "nbconvert_exporter": "python",
   "pygments_lexer": "ipython3",
   "version": "3.9.18"
  },
  "orig_nbformat": 4
 },
 "nbformat": 4,
 "nbformat_minor": 2
}
